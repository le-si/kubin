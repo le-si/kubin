{
 "cells": [
  {
   "cell_type": "code",
   "execution_count": null,
   "metadata": {},
   "outputs": [],
   "source": [
    "#@title Model\n",
    "\n",
    "model = '2.2-diffusers' #@param [\"2.0\", \"2.1\", \"2.1-diffusers\", \"2.2-diffusers\", \"3.0\", \"3.0-diffusers\", \"3.1\"]"
   ]
  },
  {
   "cell_type": "code",
   "execution_count": null,
   "metadata": {},
   "outputs": [],
   "source": [
    "#@title Settings\n",
    "\n",
    "branch = 'main' #@param [\"main\", \"dev\"]\n",
    "checkout_to_commit = \"\" #@param {type:\"string\"}\n",
    "use_ngrok = False #@param {type:\"boolean\"}\n",
    "ngrok_auth_key = \"\" #@param {type:\"string\"}\n",
    "use_localtunnel = False #@param {type:\"boolean\"}\n",
    "use_cloudflared = False #@param {type:\"boolean\"}\n",
    "use_flash_attention = True #@param {type:\"boolean\"}\n",
    "save_models_to_gdrive = False #@param {type:\"boolean\"}\n",
    "save_images_to_gdrive = False #@param {type:\"boolean\"}\n",
    "\n",
    "use_diffusers = False\n",
    "\n",
    "if model == \"2.0\":\n",
    "  model_name = \"kd20\"\n",
    "\n",
    "if model == \"2.1\":\n",
    "  model_name = \"kd21\"\n",
    "\n",
    "if model == \"2.1-diffusers\":\n",
    "  model_name = \"kd21\"\n",
    "  use_diffusers = True\n",
    "\n",
    "if model == \"2.2-diffusers\":\n",
    "  model_name = \"kd22\"\n",
    "  use_diffusers = True\n",
    "\n",
    "if model == \"3.0\":\n",
    "  model_name = \"kd30\"\n",
    "\n",
    "if model == \"3.0-diffusers\":\n",
    "  model_name = \"kd30\"\n",
    "  use_diffusers = True\n",
    "  \n",
    "if model == \"3.1\":\n",
    "  model_name = \"kd31\""
   ]
  },
  {
   "cell_type": "code",
   "execution_count": null,
   "metadata": {},
   "outputs": [],
   "source": [
    "#@title Diffusers\n",
    "optimizations = []\n",
    "\n",
    "half_weights = True #@param {type:\"boolean\"}\n",
    "use_xformers = False #@param {type:\"boolean\"}\n",
    "use_sliced_attention = False #@param {type:\"boolean\"}\n",
    "use_sequential_offload = False #@param {type:\"boolean\"}\n",
    "channels_last_memory = False #@param {type:\"boolean\"}\n",
    "\n",
    "if half_weights: optimizations.append('half_weights')\n",
    "if use_xformers: optimizations.append('xformers')\n",
    "if use_sliced_attention: optimizations.append('sliced_attention')\n",
    "if use_sequential_offload: optimizations.append('sequential_offload')\n",
    "if channels_last_memory: optimizations.append('channels_last')\n",
    "\n",
    "optimizations = str.join(',', optimizations)"
   ]
  },
  {
   "cell_type": "code",
   "execution_count": null,
   "metadata": {},
   "outputs": [],
   "source": [
    "#@title Extensions\n",
    "disabled_extensions = []\n",
    "\n",
    "image_browser = True #@param {type:\"boolean\"}\n",
    "image_tools = True #@param {type:\"boolean\"}\n",
    "interrogator = True #@param {type:\"boolean\"}\n",
    "mesh_gen = False #@param {type:\"boolean\"}\n",
    "multi_view = False #@param {type:\"boolean\"}\n",
    "animation = False #@param {type:\"boolean\"}\n",
    "video = False #@param {type:\"boolean\"}\n",
    "image_editor = True #@param {type:\"boolean\"}\n",
    "image_to_video = False #@param {type:\"boolean\"}\n",
    "prompt_styles = True #@param {type:\"boolean\"}\n",
    "segmentation = False #@param {type:\"boolean\"}\n",
    "upscaler = True #@param {type:\"boolean\"}\n",
    "networks = True #@param {type:\"boolean\"}\n",
    "training = True #@param {type:\"boolean\"}\n",
    "bg_remover = False #@param {type:\"boolean\"}\n",
    "llm_enhancer = False #@param {type:\"boolean\"}\n",
    "pipeline_enhancer = False #@param {type:\"boolean\"}\n",
    "stable_cascade = False #@param {type:\"boolean\"}\n",
    "pixart = False #@param {type:\"boolean\"}\n",
    "kwai_colors = False #@param {type:\"boolean\"}\n",
    "flux = False #@param {type:\"boolean\"}\n",
    "sana = False #@param {type:\"boolean\"}\n",
    "switti = False #@param {type:\"boolean\"}\n",
    "\n",
    "if not image_browser: disabled_extensions.append('kd-image-browser')\n",
    "if not image_tools: disabled_extensions.append('kd-image-tools')\n",
    "if not interrogator: disabled_extensions.append('kd-interrogator')\n",
    "if not mesh_gen: disabled_extensions.append('kd-mesh-gen')\n",
    "if not multi_view: disabled_extensions.append('kd-multi-view')\n",
    "if not animation: disabled_extensions.append('kd-animation')\n",
    "if not video: disabled_extensions.append('kd-video')\n",
    "if not image_editor: disabled_extensions.append('kd-image-editor')\n",
    "if not image_to_video: disabled_extensions.append('kd-image-to-video')\n",
    "if not prompt_styles: disabled_extensions.append('kd-prompt-styles')\n",
    "if not segmentation: disabled_extensions.append('kd-segmentation')\n",
    "if not upscaler: disabled_extensions.append('kd-upscaler')\n",
    "if not networks: disabled_extensions.append('kd-networks')\n",
    "if not training: disabled_extensions.append('kd-training')\n",
    "if not bg_remover: disabled_extensions.append('kd-bg-remover')\n",
    "if not llm_enhancer: disabled_extensions.append('kd-llm-enhancer')\n",
    "if not pipeline_enhancer: disabled_extensions.append('kd-pipeline-enhancer')\n",
    "if not stable_cascade: disabled_extensions.append('kd-stable-cascade')\n",
    "if not pixart: disabled_extensions.append('kd-pixart')\n",
    "if not kwai_colors: disabled_extensions.append('kd-kwai-kolors')\n",
    "if not flux: disabled_extensions.append('kd-flux')\n",
    "if not sana: disabled_extensions.append('kd-sana')\n",
    "if not switti: disabled_extensions.append('kd-switti')\n",
    "\n",
    "disabled_extensions = str.join(',', disabled_extensions)"
   ]
  },
  {
   "cell_type": "code",
   "execution_count": null,
   "metadata": {},
   "outputs": [],
   "source": [
    "#@title UI\n",
    "\n",
    "side_tabs_view = True #@param {type:\"boolean\"}"
   ]
  },
  {
   "cell_type": "code",
   "execution_count": null,
   "metadata": {},
   "outputs": [],
   "source": [
    "if save_models_to_gdrive or save_images_to_gdrive:\n",
    "  from google.colab import drive\n",
    "\n",
    "  drive.mount('/content/gdrive')"
   ]
  },
  {
   "cell_type": "code",
   "execution_count": null,
   "metadata": {},
   "outputs": [],
   "source": [
    "!python --version\n",
    "\n",
    "[gpu] = !nvidia-smi --query-gpu=gpu_name --format=csv,noheader\n",
    "print (gpu)\n",
    "\n",
    "import torch\n",
    "print(torch.__version__)\n",
    "\n",
    "!nvidia-smi"
   ]
  },
  {
   "cell_type": "code",
   "execution_count": null,
   "metadata": {},
   "outputs": [],
   "source": [
    "%cd /content\n",
    "\n",
    "!git clone -b {branch} https://github.com/seruva19/kubin.git\n",
    "!git clone https://github.com/seruva19/kubin-extensions.git /content/kubin/extensions\n",
    "%cd /content/kubin\n",
    "\n",
    "if checkout_to_commit != '':\n",
    "  !git checkout {checkout_to_commit}\n",
    "\n",
    "!pip install -r requirements.txt\n",
    "\n",
    "if use_flash_attention:\n",
    "  !pip install /content/kubin/wheels/flash_attn-1.0.9+cu121torch2.3.0-cp310-cp310-linux_x86_64.whl\n",
    "\n",
    "if use_xformers:\n",
    "  !pip install xformers==0.0.22.post7\n",
    "  !python -m xformers.info"
   ]
  },
  {
   "cell_type": "code",
   "execution_count": null,
   "metadata": {},
   "outputs": [],
   "source": [
    "if use_ngrok:\n",
    "  !pip install pyngrok\n",
    "  from pyngrok import ngrok\n",
    "  ngrok.set_auth_token(ngrok_auth_key)\n",
    "\n",
    "  tunnels = ngrok.get_tunnels()\n",
    "  for tunnel in tunnels:\n",
    "    ngrok.disconnect(tunnel.public_url)\n",
    "\n",
    "  print(ngrok.connect(7860, \"http\"))"
   ]
  },
  {
   "cell_type": "code",
   "execution_count": null,
   "metadata": {},
   "outputs": [],
   "source": [
    "if use_localtunnel:\n",
    "    !npm install -g localtunnel\n",
    "    lturl = !curl ipv4.icanhazip.com\n",
    "    print(\"endpoint IP for localtunnel:\")\n",
    "    print(lturl[0])"
   ]
  },
  {
   "cell_type": "code",
   "execution_count": null,
   "metadata": {},
   "outputs": [],
   "source": [
    "if use_cloudflared:\n",
    "    !wget -q https://github.com/cloudflare/cloudflared/releases/latest/download/cloudflared-linux-amd64.deb && dpkg -i cloudflared-linux-amd64.deb"
   ]
  },
  {
   "cell_type": "code",
   "execution_count": null,
   "metadata": {},
   "outputs": [],
   "source": [
    "%cd /content\n",
    "\n",
    "%env TF_CPP_MIN_LOG_LEVEL=1\n",
    "\n",
    "!apt -y update -qq\n",
    "!wget https://github.com/camenduru/gperftools/releases/download/v1.0/libtcmalloc_minimal.so.4 -O /content/libtcmalloc_minimal.so.4\n",
    "%env LD_PRELOAD=/content/libtcmalloc_minimal.so.4"
   ]
  },
  {
   "cell_type": "code",
   "execution_count": null,
   "metadata": {},
   "outputs": [],
   "source": [
    "!kill -9 $(lsof -t -i tcp:7860)\n",
    "%cd /content/kubin\n",
    "\n",
    "!python src/kubin.py \\\n",
    "  --model-name={model_name} \\\n",
    "  --cache-dir={\"/content/gdrive/MyDrive/kubin/models\" if save_models_to_gdrive else \"/content/kubin/models\"} \\\n",
    "  --output-dir={\"/content/gdrive/MyDrive/kubin/output\" if save_images_to_gdrive else \"/content/kubin/output\"} \\\n",
    "  --disabled-extensions={disabled_extensions} \\\n",
    "  --pipeline={\"diffusers\" if use_diffusers else \"native\"} \\\n",
    "  --optimize={optimizations} \\\n",
    "  {\"--side-tabs='use'\" if side_tabs_view else \"\"} \\\n",
    "  --share={\"none\" if use_ngrok or use_localtunnel or use_cloudflared else \"gradio\"} \\\n",
    "  {\"--flash-attention='use'\" if use_flash_attention else \"\"} & \\\n",
    "  {\"npx localtunnel --port 7860\" if use_localtunnel else \":\"} & \\\n",
    "  {\"cloudflared tunnel --url http://localhost:7860\" if use_cloudflared else \":\"}"
   ]
  }
 ],
 "metadata": {
  "kernelspec": {
   "display_name": "Julia 1.8.5",
   "language": "julia",
   "name": "julia-1.8"
  },
  "language_info": {
   "file_extension": ".jl",
   "mimetype": "application/julia",
   "name": "julia",
   "version": "1.8.5"
  },
  "orig_nbformat": 4
 },
 "nbformat": 4,
 "nbformat_minor": 2
}
